{
 "cells": [
  {
   "cell_type": "code",
   "execution_count": 1,
   "id": "ec9401b7",
   "metadata": {},
   "outputs": [],
   "source": [
    "from tkinter import *\n",
    "\n",
    "def func(value):\n",
    "    print(value)\n",
    "\n",
    "root = Tk()\n",
    "options = [\"1\", \"2\", \"3\"]\n",
    "var = StringVar()\n",
    "var.set(\"1\")\n",
    "drop = OptionMenu(root, var, *options, command=func)\n",
    "drop.place(x=10, y=10)"
   ]
  },
  {
   "cell_type": "code",
   "execution_count": 2,
   "id": "29cd82c0",
   "metadata": {},
   "outputs": [
    {
     "name": "stdout",
     "output_type": "stream",
     "text": [
      "1\n",
      "2\n",
      "3\n"
     ]
    }
   ],
   "source": [
    "root.mainloop()"
   ]
  },
  {
   "cell_type": "code",
   "execution_count": null,
   "id": "b1ce7cf5",
   "metadata": {},
   "outputs": [],
   "source": []
  }
 ],
 "metadata": {
  "kernelspec": {
   "display_name": "Python 3 (ipykernel)",
   "language": "python",
   "name": "python3"
  },
  "language_info": {
   "codemirror_mode": {
    "name": "ipython",
    "version": 3
   },
   "file_extension": ".py",
   "mimetype": "text/x-python",
   "name": "python",
   "nbconvert_exporter": "python",
   "pygments_lexer": "ipython3",
   "version": "3.10.6"
  }
 },
 "nbformat": 4,
 "nbformat_minor": 5
}
